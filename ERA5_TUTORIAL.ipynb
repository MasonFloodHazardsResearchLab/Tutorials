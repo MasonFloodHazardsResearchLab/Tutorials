{
 "cells": [
  {
   "cell_type": "markdown",
   "metadata": {},
   "source": [
    "# Downloading and coverting ERA5 files"
   ]
  },
  {
   "cell_type": "markdown",
   "metadata": {},
   "source": [
    "Information on the fifth generation ECMWF atmospheric reanalysis of the global climate ERA5 is found at:\n",
    "https://cds.climate.copernicus.eu/cdsapp#!/dataset/reanalysis-era5-single-levels?tab=overview"
   ]
  },
  {
   "cell_type": "markdown",
   "metadata": {},
   "source": [
    "# 1) Requesting ERA5 data"
   ]
  },
  {
   "cell_type": "markdown",
   "metadata": {},
   "source": [
    "a) Go to the ERA5 hourly data on single levels from 1979 to present (https://cds.climate.copernicus.eu/cdsapp#!/dataset/reanalysis-era5-single-levels?tab=form)\n",
    "\n",
    "b) In product type select Reanalysis\n",
    "\n",
    "c) In Variable select Popular -> 10m u-component of wind, 10m v-component of wind, and Mean sea level pressure.\n",
    "\n",
    "d) In this example we will prepare the data for Hurricane Arthur, from 06/27/2014 to 07/09/2014. Therefore, we will have to download 2 ERA5 files, one from 06/27/2014 to 06/30/2014 and another from 07/01/2014 to 07/09/2014. \n",
    "\n",
    "First, we will download the data from 06/27/2014 to 06/30/2014. To do that we just need to select the Year, Month and Day accordingly. We will work with inputs every 6 hours, so select the Time: 00:00, 06:00, 12:00, and 18:00.\n",
    "\n",
    "e) In the Geographical area tab select “Whole available region”\n",
    "\n",
    "f) Select the GRIB format in the Format tab.\n",
    "\n",
    "g) Click on “Show API request” and save the code.\n"
   ]
  },
  {
   "cell_type": "markdown",
   "metadata": {},
   "source": [
    "# 2) Downloading ERA5 data"
   ]
  },
  {
   "cell_type": "markdown",
   "metadata": {},
   "source": [
    "Importing the necessary lybraries:\n",
    "\n",
    "\n",
    "cfgrib is installed as:\n",
    "conda install -c conda-forge cfgrib\n",
    "xarray is installed as:\n",
    "conda install -c conda-forge xarray dask netCDF4 bottleneck"
   ]
  },
  {
   "cell_type": "code",
   "execution_count": 1,
   "metadata": {},
   "outputs": [],
   "source": [
    "import sys,getopt\n",
    "import pandas as pd\n",
    "import numpy as np\n",
    "import pathlib as pl\n",
    "import numpy.core.multiarray \n",
    "import netCDF4 as nc4\n",
    "import xarray as xr\n",
    "import scipy.interpolate\n",
    "import cdsapi\n",
    "c = cdsapi.Client()"
   ]
  },
  {
   "cell_type": "markdown",
   "metadata": {},
   "source": [
    "Paste the API request and start downloading:"
   ]
  },
  {
   "cell_type": "code",
   "execution_count": null,
   "metadata": {},
   "outputs": [
    {
     "name": "stderr",
     "output_type": "stream",
     "text": [
      "2020-05-05 07:40:03,041 INFO Welcome to the CDS\n",
      "2020-05-05 07:40:03,042 INFO Sending request to https://cds.climate.copernicus.eu/api/v2/resources/reanalysis-era5-single-levels\n",
      "2020-05-05 07:40:03,773 INFO Request is completed\n",
      "2020-05-05 07:40:03,774 INFO Downloading http://136.156.132.153/cache-compute-0002/cache/data9/adaptor.mars.internal-1588637084.5329049-20545-3-d93417be-7814-4455-9b2d-cc387e1804c2.grib to download.grib (1.8G)\n",
      " 52%|█████▏    | 956M/1.81G [41:57<20:51, 752kB/s]     "
     ]
    }
   ],
   "source": [
    "time = ['00:00', '01:00', '02:00','03:00', '04:00', '05:00',\n",
    "        '06:00', '07:00', '08:00','09:00', '10:00', '11:00',\n",
    "        '12:00', '13:00', '14:00','15:00', '16:00', '17:00',\n",
    "        '18:00', '19:00', '20:00','21:00', '22:00', '23:00',]\n",
    "days = ['17','18','19','20','21','22','23','24','25','26','27','28','29','30']\n",
    "#['10','11','22','23','24','25','26','27','28','29','30']#,\n",
    "        #\n",
    "c.retrieve(\n",
    "    'reanalysis-era5-single-levels',\n",
    "    {\n",
    "        'product_type': 'reanalysis',\n",
    "        'format': 'grib',\n",
    "        'variable': [\n",
    "            '10m_u_component_of_wind', '10m_v_component_of_wind', 'mean_sea_level_pressure',\n",
    "        ],\n",
    "        'year': '2015',\n",
    "        'month': '09',\n",
    "        'day': days,\n",
    "        'time': time,\n",
    "    },\n",
    "    'download.grib')"
   ]
  },
  {
   "cell_type": "markdown",
   "metadata": {},
   "source": [
    "# 3) Converting the .grib file into .22 (NWS=6)"
   ]
  },
  {
   "cell_type": "markdown",
   "metadata": {},
   "source": [
    "Set the path to where the .grib data was saved:"
   ]
  },
  {
   "cell_type": "markdown",
   "metadata": {},
   "source": [
    "Open the .grib file:"
   ]
  },
  {
   "cell_type": "code",
   "execution_count": 2,
   "metadata": {},
   "outputs": [
    {
     "name": "stderr",
     "output_type": "stream",
     "text": [
      "2020-04-29 14:26:20,935 INFO ecCodes library found using name 'eccodes'.\n",
      "2020-04-29 14:26:20,944 WARNING Ignoring index file 'D:\\\\FHRL_work\\\\libraries\\\\adcirc-unswan\\\\inputs\\\\download.grib.4cc40.idx' older than GRIB file\n",
      "2020-04-29 14:26:29,443 INFO missing from GRIB stream: 'directionNumber'\n",
      "2020-04-29 14:26:29,444 INFO missing from GRIB stream: 'frequencyNumber'\n",
      "2020-04-29 14:26:29,784 INFO missing from GRIB stream: 'directionNumber'\n",
      "2020-04-29 14:26:29,785 INFO missing from GRIB stream: 'frequencyNumber'\n",
      "2020-04-29 14:26:30,085 INFO missing from GRIB stream: 'directionNumber'\n",
      "2020-04-29 14:26:30,086 INFO missing from GRIB stream: 'frequencyNumber'\n"
     ]
    }
   ],
   "source": [
    "path = pl.Path(r'D:\\FHRL_work\\libraries\\adcirc-unswan\\inputs')\n",
    "file = 'download.grib'\n",
    "grib = xr.open_dataset(path / file, engine='cfgrib')"
   ]
  },
  {
   "cell_type": "markdown",
   "metadata": {},
   "source": [
    "Extract the variables of interest:"
   ]
  },
  {
   "cell_type": "code",
   "execution_count": 5,
   "metadata": {},
   "outputs": [],
   "source": [
    "u = grib.data_vars['u10'].values[:]\n",
    "v = grib.data_vars['v10'].values[:]\n",
    "prmsl = grib.data_vars['msl'].values[:]\n",
    "lat = grib.coords['latitude'].values\n",
    "lon= grib.coords['longitude'].values\n",
    "#time = grib.coords['time'].values[:]"
   ]
  },
  {
   "cell_type": "markdown",
   "metadata": {},
   "source": [
    "Create boundaries that cover the extent of your mesh (in our case the North Atlantic and the Caribean):"
   ]
  },
  {
   "cell_type": "code",
   "execution_count": 3,
   "metadata": {},
   "outputs": [],
   "source": [
    "lat1,lat2 = 30,90\n",
    "lon1,lon2 = -220, -115"
   ]
  },
  {
   "cell_type": "markdown",
   "metadata": {},
   "source": [
    "Create a grid in using the format expected for a NWS = 6 in 3 columns (uwind, vwind, pressure):"
   ]
  },
  {
   "cell_type": "code",
   "execution_count": 13,
   "metadata": {},
   "outputs": [],
   "source": [
    "temp,y,x = u.shape\n",
    "u2,v2,p2 = [],[],[]\n",
    "datay,datax = [], []"
   ]
  },
  {
   "cell_type": "markdown",
   "metadata": {},
   "source": [
    "Start populating the grid with data from the .grib file:"
   ]
  },
  {
   "cell_type": "code",
   "execution_count": 14,
   "metadata": {
    "scrolled": true
   },
   "outputs": [
    {
     "name": "stdout",
     "output_type": "stream",
     "text": [
      "time = 0\n",
      "time = 1\n",
      "time = 2\n",
      "time = 3\n",
      "time = 4\n",
      "time = 5\n",
      "time = 6\n",
      "time = 7\n",
      "time = 8\n",
      "time = 9\n",
      "time = 10\n",
      "time = 11\n",
      "time = 12\n",
      "time = 13\n",
      "time = 14\n",
      "time = 15\n",
      "time = 16\n",
      "time = 17\n",
      "time = 18\n",
      "time = 19\n",
      "time = 20\n",
      "time = 21\n",
      "time = 22\n",
      "time = 23\n",
      "time = 24\n",
      "time = 25\n",
      "time = 26\n",
      "time = 27\n",
      "time = 28\n",
      "time = 29\n",
      "time = 30\n",
      "time = 31\n",
      "time = 32\n",
      "time = 33\n",
      "time = 34\n",
      "time = 35\n",
      "time = 36\n",
      "time = 37\n",
      "time = 38\n",
      "time = 39\n",
      "time = 40\n",
      "time = 41\n",
      "time = 42\n",
      "time = 43\n",
      "time = 44\n",
      "time = 45\n",
      "time = 46\n",
      "time = 47\n",
      "time = 48\n",
      "time = 49\n",
      "time = 50\n",
      "time = 51\n",
      "time = 52\n",
      "time = 53\n",
      "time = 54\n",
      "time = 55\n",
      "time = 56\n",
      "time = 57\n",
      "time = 58\n",
      "time = 59\n",
      "time = 60\n",
      "time = 61\n",
      "time = 62\n",
      "time = 63\n",
      "time = 64\n",
      "time = 65\n",
      "time = 66\n",
      "time = 67\n",
      "time = 68\n",
      "time = 69\n",
      "time = 70\n",
      "time = 71\n",
      "time = 72\n",
      "time = 73\n",
      "time = 74\n",
      "time = 75\n",
      "time = 76\n",
      "time = 77\n",
      "time = 78\n",
      "time = 79\n",
      "time = 80\n",
      "time = 81\n",
      "time = 82\n",
      "time = 83\n",
      "time = 84\n",
      "time = 85\n",
      "time = 86\n",
      "time = 87\n",
      "time = 88\n",
      "time = 89\n",
      "time = 90\n",
      "time = 91\n",
      "time = 92\n",
      "time = 93\n",
      "time = 94\n",
      "time = 95\n",
      "time = 96\n",
      "time = 97\n",
      "time = 98\n",
      "time = 99\n",
      "time = 100\n",
      "time = 101\n",
      "time = 102\n",
      "time = 103\n",
      "time = 104\n",
      "time = 105\n",
      "time = 106\n",
      "time = 107\n",
      "time = 108\n",
      "time = 109\n",
      "time = 110\n",
      "time = 111\n",
      "time = 112\n",
      "time = 113\n",
      "time = 114\n",
      "time = 115\n",
      "time = 116\n",
      "time = 117\n",
      "time = 118\n",
      "time = 119\n",
      "time = 120\n",
      "time = 121\n",
      "time = 122\n",
      "time = 123\n",
      "time = 124\n",
      "time = 125\n",
      "time = 126\n",
      "time = 127\n",
      "time = 128\n",
      "time = 129\n",
      "time = 130\n",
      "time = 131\n",
      "time = 132\n",
      "time = 133\n",
      "time = 134\n",
      "time = 135\n",
      "time = 136\n",
      "time = 137\n",
      "time = 138\n",
      "time = 139\n",
      "time = 140\n",
      "time = 141\n",
      "time = 142\n",
      "time = 143\n",
      "time = 144\n",
      "time = 145\n",
      "time = 146\n",
      "time = 147\n",
      "time = 148\n",
      "time = 149\n",
      "time = 150\n",
      "time = 151\n",
      "time = 152\n",
      "time = 153\n",
      "time = 154\n",
      "time = 155\n",
      "time = 156\n",
      "time = 157\n",
      "time = 158\n",
      "time = 159\n",
      "time = 160\n",
      "time = 161\n",
      "time = 162\n",
      "time = 163\n",
      "time = 164\n",
      "time = 165\n",
      "time = 166\n",
      "time = 167\n",
      "time = 168\n",
      "time = 169\n",
      "time = 170\n",
      "time = 171\n",
      "time = 172\n",
      "time = 173\n",
      "time = 174\n",
      "time = 175\n",
      "time = 176\n",
      "time = 177\n",
      "time = 178\n",
      "time = 179\n",
      "time = 180\n",
      "time = 181\n",
      "time = 182\n",
      "time = 183\n",
      "time = 184\n",
      "time = 185\n",
      "time = 186\n",
      "time = 187\n",
      "time = 188\n",
      "time = 189\n",
      "time = 190\n",
      "time = 191\n",
      "time = 192\n",
      "time = 193\n",
      "time = 194\n",
      "time = 195\n",
      "time = 196\n",
      "time = 197\n",
      "time = 198\n",
      "time = 199\n",
      "time = 200\n",
      "time = 201\n",
      "time = 202\n",
      "time = 203\n",
      "time = 204\n",
      "time = 205\n",
      "time = 206\n",
      "time = 207\n",
      "time = 208\n",
      "time = 209\n",
      "time = 210\n",
      "time = 211\n",
      "time = 212\n",
      "time = 213\n",
      "time = 214\n",
      "time = 215\n"
     ]
    }
   ],
   "source": [
    "for t in range(0,temp):\n",
    "    for i in range(0,y):\n",
    "        for ii in range(0,x):\n",
    "            if (lat2>=lat[i]>lat1) and ((lon2+360)>=lon[ii]>(lon1+360)):\n",
    "                u2.append(np.round(u[t,i,ii],3))\n",
    "                v2.append(np.round(v[t,i,ii],3))\n",
    "                p2.append(prmsl[t,i,ii])\n",
    "                datay.append(i)\n",
    "                datax.append(ii)\n",
    "    print('time = '+str(t))\n"
   ]
  },
  {
   "cell_type": "code",
   "execution_count": 15,
   "metadata": {},
   "outputs": [],
   "source": [
    "df = pd.DataFrame({'u':np.round(u2,2),'v':np.round(v2,2),'p':np.round(p2,2)})\n",
    "df.to_csv('fort.22', sep='\\t',index=False,header = False)  "
   ]
  },
  {
   "cell_type": "markdown",
   "metadata": {},
   "source": [
    "Repeat steps 1, 2, and 3 for the second part of the storm\n",
    "\n",
    "Make sure that when you repeat the process for the other part of the storm (07/01/2014 to 07/09/2014) you change the name of the output file.\n",
    "\n",
    "Use a text editor (Sublime for instance) to copy the 'arthur_2.22' file at the end of the 'arthur_1.22' file. This complete file refers to the whole storm."
   ]
  },
  {
   "cell_type": "markdown",
   "metadata": {},
   "source": [
    "Check the extent of your grid:"
   ]
  },
  {
   "cell_type": "code",
   "execution_count": 7,
   "metadata": {},
   "outputs": [
    {
     "data": {
      "text/plain": [
       "(240, 420)"
      ]
     },
     "execution_count": 7,
     "metadata": {},
     "output_type": "execute_result"
    }
   ],
   "source": [
    "temp = lat[(lat2>=lat) & (lat>lat1)]\n",
    "temp2 = lon[(lon2+360>=lon) & (lon>lon1+360)]\n",
    "len(temp),len(temp2)"
   ]
  },
  {
   "cell_type": "markdown",
   "metadata": {},
   "source": [
    "# Updating the fort.15 file:"
   ]
  },
  {
   "cell_type": "markdown",
   "metadata": {},
   "source": [
    "Change the line YYYY MM DD HH24 to:\n",
    "\n",
    "212 168 60.0 -100.0 0.25 0.25 21600 3600 ! YYYY MM DD HH24 StormNumber BLAdj \n",
    "\n",
    "where, 212 is the number of values in Y, 168 is the number of values in X, 60 is the maximum Y, -100 is the minimum X, 0.25 are the X and Y increments, and 21600 is the time interval in seconds (6hours)."
   ]
  }
 ],
 "metadata": {
  "kernelspec": {
   "display_name": "Python [conda env:general]",
   "language": "python",
   "name": "conda-env-general-py"
  },
  "language_info": {
   "codemirror_mode": {
    "name": "ipython",
    "version": 3
   },
   "file_extension": ".py",
   "mimetype": "text/x-python",
   "name": "python",
   "nbconvert_exporter": "python",
   "pygments_lexer": "ipython3",
   "version": "3.7.7"
  }
 },
 "nbformat": 4,
 "nbformat_minor": 4
}
