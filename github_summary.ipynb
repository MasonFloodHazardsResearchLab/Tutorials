{
 "cells": [
  {
   "cell_type": "markdown",
   "metadata": {},
   "source": [
    "# FHRL Github    \n",
    "\n",
    "<img style=\"float:right;\" src=\"https://avatars0.githubusercontent.com/u/12943890?s=200&v=4\" width=100px>   \n",
    "<img style=\"float:left;\" src=\"https://simpleanalytical.com/images/share-jupyter-github-e1547042907112.png\" width=200px>"
   ]
  },
  {
   "cell_type": "markdown",
   "metadata": {},
   "source": [
    "#### Why use Github?   \n",
    " \n",
    "\n",
    "**Exposure:** If someone needs to see your work or if you want them to try out your code, they can easily get it from GitHub.   \n",
    "**Be a keener!** If you care deeply about someone else’s project you can track its development on GitHub.   \n",
    "**Collaboration:** If you need to collaborate on data analysis or code development, then everyone should use Git. Use GitHub as your clearinghouse: individuals work independently, then send work back to GitHub for reconciliation and transmission to the rest of the team.   \n",
    "\n",
    "\n"
   ]
  },
  {
   "cell_type": "markdown",
   "metadata": {},
   "source": [
    "### Topics   \n",
    "1. FHRL Repository\n",
    "2. Github command line\n",
    "3. Github commands\n",
    "\n",
    "---"
   ]
  },
  {
   "cell_type": "markdown",
   "metadata": {},
   "source": [
    "## 1. FHRL Repository   \n",
    "\n",
    "[Located here](https://github.com/MasonFloodHazardsResearchLab)    \n",
    "\n",
    "---"
   ]
  },
  {
   "cell_type": "markdown",
   "metadata": {},
   "source": [
    "## 2. Github Command line    \n",
    "\n",
    "<img style=\"float:center;\" src=\"https://www.computerhope.com/issues/pictures/git-list-remote.jpg\" width=400px>    \n",
    "\n",
    "\n",
    "- Python command line can also run as a github \n",
    "```\n",
    "conda install git   \n",
    "```    \n",
    "    \n",
    "    \n",
    "    \n",
    "- [Download the MINGW command line here](https://git-scm.com/downloads)   \n",
    "\n",
    "\n",
    "---"
   ]
  },
  {
   "cell_type": "markdown",
   "metadata": {},
   "source": [
    "## 3. Github Commands   \n",
    "    \n",
    "    \n",
    "<iframe width=\"560\" height=\"315\" src=\"https://www.youtube.com/embed/xSv_m3KhUO8\" frameborder=\"0\" allow=\"accelerometer; autoplay; encrypted-media; gyroscope; picture-in-picture\" allowfullscreen></iframe>    \n",
    "    \n",
    "* To clone a repo \n",
    "```\n",
    "git clone httpofgitrepo\n",
    "```   \n",
    "\n",
    "Steps to update a repo from the command line and also working out of a branch.  \n",
    "\n",
    "1. Make sure change your directory to the local repo.  \n",
    "2. In the repo create a branch.  \n",
    "```\n",
    "git checkout -b [name_of_your_new_branch]   \n",
    "git push origin [name_of_your_new_branch]  # hooks the branch to the master branch on the repo\n",
    "```   \n",
    "       \n",
    "         \n",
    "    \n",
    "*if you are only switching to a branch*  \n",
    "```\n",
    "git checkout [name_of_your_branch]   \n",
    "```     \n",
    "<img style=\"float:center;\" src=\"https://devhumor.com/content/uploads/images/February2020/programmers_vacation.jpg\" width=400px>  \n",
    "     \n",
    "     \n",
    "3. Add changes from local repo to repo online.   \n",
    "```\n",
    "git add --all # can be changed from all to specific files\n",
    "```   \n",
    "\n",
    "4. Commit changes from local repo to repo online.  \n",
    "```\n",
    "git commit -m \"description of the changes you are pushing to the repo online\"     \n",
    "```   \n",
    "\n",
    "5. Push changes from local repo to repo online.   \n",
    "```\n",
    "git push   \n",
    "```\n",
    "\n",
    "\n",
    "\n"
   ]
  },
  {
   "cell_type": "code",
   "execution_count": null,
   "metadata": {},
   "outputs": [],
   "source": []
  }
 ],
 "metadata": {
  "kernelspec": {
   "display_name": "Python 3",
   "language": "python",
   "name": "python3"
  },
  "language_info": {
   "codemirror_mode": {
    "name": "ipython",
    "version": 3
   },
   "file_extension": ".py",
   "mimetype": "text/x-python",
   "name": "python",
   "nbconvert_exporter": "python",
   "pygments_lexer": "ipython3",
   "version": "3.7.6"
  }
 },
 "nbformat": 4,
 "nbformat_minor": 4
}
